{
 "cells": [
  {
   "cell_type": "code",
   "execution_count": 4,
   "metadata": {},
   "outputs": [
    {
     "name": "stdout",
     "output_type": "stream",
     "text": [
      "('172.16.0.3', '25/Sep/2002:14:04:19 +0200', 'GET / HTTP/1.1', '401', '', 'Mozilla/5.0 (X11; U; Linux i686; en-US; rv:1.1) Gecko/20020827')\n",
      "2010-09-10 06:51:25\n",
      "['172.203.40.43', '-', '-', '1284101485', 'GET_http://www.google.com']\n",
      "ip address= 172.203.40.43\n",
      "recurso= http://www.google.com\n",
      "fecha=2010-09-10 06:51:25 \n"
     ]
    }
   ],
   "source": [
    "line = '172.16.0.3 - - [25/Sep/2002:14:04:19 +0200] \"GET / HTTP/1.1\" 401 - \"\" \"Mozilla/5.0 (X11; U; Linux i686; en-US; rv:1.1) Gecko/20020827\"'\n",
    "line2 = '135.80.145.71 - - 1472681736 GET_/~daniel/docencia/arss_itt/arss_itt11_12/slides/03-Protocolos.pdf_HTTP/1.1 200 7281879'\n",
    "regex = '([(\\d\\.)]+) - - \\[(.*?)\\] \"(.*?)\" (\\d+) - \"(.*?)\" \"(.*?)\"'\n",
    "\n",
    "import re\n",
    "print(re.match(regex, line).groups())\n",
    "\n",
    "\n",
    "from datetime import datetime\n",
    "ts = int(\"1284101485\")\n",
    "\n",
    "print(datetime.utcfromtimestamp(ts).strftime('%Y-%m-%d %H:%M:%S'))\n",
    "\n",
    "\n",
    "from datetime import datetime\n",
    "log_line = \"172.203.40.43 - - 1284101485 GET_http://www.google.com\"\n",
    "splitted_log = log_line.split(' ')\n",
    "print(splitted_log)\n",
    "ip = splitted_log[0]\n",
    "address = splitted_log[4].split('_')[1]\n",
    "ts = int(splitted_log[3])\n",
    "print(\"ip address= %s\"%ip)\n",
    "print(\"recurso= %s\"%address)\n",
    "print(\"fecha=%s \"%datetime.utcfromtimestamp(ts).strftime('%Y-%m-%d %H:%M:%S'))"
   ]
  },
  {
   "cell_type": "code",
   "execution_count": null,
   "metadata": {},
   "outputs": [],
   "source": []
  }
 ],
 "metadata": {
  "kernelspec": {
   "display_name": "Python 2",
   "language": "python",
   "name": "python2"
  },
  "language_info": {
   "codemirror_mode": {
    "name": "ipython",
    "version": 2
   },
   "file_extension": ".py",
   "mimetype": "text/x-python",
   "name": "python",
   "nbconvert_exporter": "python",
   "pygments_lexer": "ipython2",
   "version": "2.7.15"
  }
 },
 "nbformat": 4,
 "nbformat_minor": 2
}
